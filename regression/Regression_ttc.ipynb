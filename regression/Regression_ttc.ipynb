{
 "cells": [
  {
   "cell_type": "code",
   "execution_count": 1,
   "metadata": {},
   "outputs": [],
   "source": [
    "# #import modules\n",
    "# import os\n",
    "# import glob\n",
    "import pandas as pd\n",
    "# from datetime import datetime\n",
    "# os.chdir(\"D:\\\\NewFinalDatasetsForNeuralNetwork\\\\CrashScenarios\\\\FinalCrashScenarios\")\n",
    "# all_filenames1 = [i for i in glob.glob('*.{}'.format('csv'))]\n",
    "# combined_crash_csv = pd.concat([pd.read_csv(f) for f in all_filenames1])\n",
    "\n",
    "# combined_crash_csv = combined_crash_csv.sample(frac=1).reset_index(drop=True)\n",
    "# currentDateAndTime = datetime.now()\n",
    "# currentDateTime = currentDateAndTime.strftime(\"%d_%m_%Y__%H_%M\")\n",
    "# csvname = \"D:\\\\NewFinalDatasetsForNeuralNetwork\\\\Encap_25_50_75_crash_noncrash_combined_csv_\"+ currentDateTime + \".csv\"\n",
    "# #export to csv\n",
    "# combined_crash_csv.to_csv(csvname , index=False, encoding='utf-8-sig')\n",
    "\n",
    "#importing dataset\n",
    "\n",
    "combined_crash_csv = pd.read_csv(\"D:\\\\NewFinalDatasetsForNeuralNetwork\\\\Encap_25_50_75_crash_combined_csv_20_03_2023__21_52.csv\")"
   ]
  },
  {
   "cell_type": "code",
   "execution_count": 4,
   "metadata": {},
   "outputs": [
    {
     "data": {
      "text/plain": [
       "7.679221757"
      ]
     },
     "execution_count": 4,
     "metadata": {},
     "output_type": "execute_result"
    }
   ],
   "source": [
    "max(combined_crash_csv['TTC'])"
   ]
  },
  {
   "cell_type": "code",
   "execution_count": 6,
   "metadata": {},
   "outputs": [
    {
     "data": {
      "text/html": [
       "<div>\n",
       "<style scoped>\n",
       "    .dataframe tbody tr th:only-of-type {\n",
       "        vertical-align: middle;\n",
       "    }\n",
       "\n",
       "    .dataframe tbody tr th {\n",
       "        vertical-align: top;\n",
       "    }\n",
       "\n",
       "    .dataframe thead th {\n",
       "        text-align: right;\n",
       "    }\n",
       "</style>\n",
       "<table border=\"1\" class=\"dataframe\">\n",
       "  <thead>\n",
       "    <tr style=\"text-align: right;\">\n",
       "      <th></th>\n",
       "      <th>NORMALIZED PEDESTRIAN POSITION X</th>\n",
       "      <th>NORMALIZED PEDESTRIAN POSITION Y</th>\n",
       "      <th>NORMALIZED PEDESTRIAN DIRECTION</th>\n",
       "      <th>NORMALIZED PEDESTRIAN SPEED</th>\n",
       "      <th>TTC</th>\n",
       "    </tr>\n",
       "  </thead>\n",
       "  <tbody>\n",
       "    <tr>\n",
       "      <th>0</th>\n",
       "      <td>77.941482</td>\n",
       "      <td>-7.9</td>\n",
       "      <td>0.56</td>\n",
       "      <td>1.361111</td>\n",
       "      <td>5.436994</td>\n",
       "    </tr>\n",
       "    <tr>\n",
       "      <th>1</th>\n",
       "      <td>16.298392</td>\n",
       "      <td>-0.8</td>\n",
       "      <td>1.63</td>\n",
       "      <td>1.305556</td>\n",
       "      <td>0.996148</td>\n",
       "    </tr>\n",
       "    <tr>\n",
       "      <th>2</th>\n",
       "      <td>60.402328</td>\n",
       "      <td>-5.2</td>\n",
       "      <td>4.16</td>\n",
       "      <td>1.361111</td>\n",
       "      <td>4.198817</td>\n",
       "    </tr>\n",
       "    <tr>\n",
       "      <th>3</th>\n",
       "      <td>74.785708</td>\n",
       "      <td>-5.8</td>\n",
       "      <td>3.31</td>\n",
       "      <td>1.111111</td>\n",
       "      <td>5.228723</td>\n",
       "    </tr>\n",
       "    <tr>\n",
       "      <th>4</th>\n",
       "      <td>60.219342</td>\n",
       "      <td>-5.7</td>\n",
       "      <td>0.69</td>\n",
       "      <td>1.250000</td>\n",
       "      <td>4.160302</td>\n",
       "    </tr>\n",
       "    <tr>\n",
       "      <th>...</th>\n",
       "      <td>...</td>\n",
       "      <td>...</td>\n",
       "      <td>...</td>\n",
       "      <td>...</td>\n",
       "      <td>...</td>\n",
       "    </tr>\n",
       "    <tr>\n",
       "      <th>1186515</th>\n",
       "      <td>37.756630</td>\n",
       "      <td>-3.4</td>\n",
       "      <td>4.70</td>\n",
       "      <td>1.333333</td>\n",
       "      <td>2.558604</td>\n",
       "    </tr>\n",
       "    <tr>\n",
       "      <th>1186516</th>\n",
       "      <td>29.090621</td>\n",
       "      <td>-2.4</td>\n",
       "      <td>2.35</td>\n",
       "      <td>1.250000</td>\n",
       "      <td>1.921616</td>\n",
       "    </tr>\n",
       "    <tr>\n",
       "      <th>1186517</th>\n",
       "      <td>51.400099</td>\n",
       "      <td>-4.4</td>\n",
       "      <td>1.32</td>\n",
       "      <td>1.388889</td>\n",
       "      <td>3.528936</td>\n",
       "    </tr>\n",
       "    <tr>\n",
       "      <th>1186518</th>\n",
       "      <td>22.662374</td>\n",
       "      <td>-2.4</td>\n",
       "      <td>1.83</td>\n",
       "      <td>1.305556</td>\n",
       "      <td>1.456062</td>\n",
       "    </tr>\n",
       "    <tr>\n",
       "      <th>1186519</th>\n",
       "      <td>53.639733</td>\n",
       "      <td>-4.4</td>\n",
       "      <td>0.31</td>\n",
       "      <td>1.194444</td>\n",
       "      <td>3.683775</td>\n",
       "    </tr>\n",
       "  </tbody>\n",
       "</table>\n",
       "<p>1186520 rows × 5 columns</p>\n",
       "</div>"
      ],
      "text/plain": [
       "         NORMALIZED PEDESTRIAN POSITION X  NORMALIZED PEDESTRIAN POSITION Y  \\\n",
       "0                               77.941482                              -7.9   \n",
       "1                               16.298392                              -0.8   \n",
       "2                               60.402328                              -5.2   \n",
       "3                               74.785708                              -5.8   \n",
       "4                               60.219342                              -5.7   \n",
       "...                                   ...                               ...   \n",
       "1186515                         37.756630                              -3.4   \n",
       "1186516                         29.090621                              -2.4   \n",
       "1186517                         51.400099                              -4.4   \n",
       "1186518                         22.662374                              -2.4   \n",
       "1186519                         53.639733                              -4.4   \n",
       "\n",
       "         NORMALIZED PEDESTRIAN DIRECTION  NORMALIZED PEDESTRIAN SPEED  \\\n",
       "0                                   0.56                     1.361111   \n",
       "1                                   1.63                     1.305556   \n",
       "2                                   4.16                     1.361111   \n",
       "3                                   3.31                     1.111111   \n",
       "4                                   0.69                     1.250000   \n",
       "...                                  ...                          ...   \n",
       "1186515                             4.70                     1.333333   \n",
       "1186516                             2.35                     1.250000   \n",
       "1186517                             1.32                     1.388889   \n",
       "1186518                             1.83                     1.305556   \n",
       "1186519                             0.31                     1.194444   \n",
       "\n",
       "              TTC  \n",
       "0        5.436994  \n",
       "1        0.996148  \n",
       "2        4.198817  \n",
       "3        5.228723  \n",
       "4        4.160302  \n",
       "...           ...  \n",
       "1186515  2.558604  \n",
       "1186516  1.921616  \n",
       "1186517  3.528936  \n",
       "1186518  1.456062  \n",
       "1186519  3.683775  \n",
       "\n",
       "[1186520 rows x 5 columns]"
      ]
     },
     "execution_count": 6,
     "metadata": {},
     "output_type": "execute_result"
    }
   ],
   "source": [
    "dataset = combined_crash_csv\n",
    "dataset"
   ]
  },
  {
   "cell_type": "code",
   "execution_count": 1,
   "metadata": {},
   "outputs": [
    {
     "data": {
      "text/html": [
       "<div>\n",
       "<style scoped>\n",
       "    .dataframe tbody tr th:only-of-type {\n",
       "        vertical-align: middle;\n",
       "    }\n",
       "\n",
       "    .dataframe tbody tr th {\n",
       "        vertical-align: top;\n",
       "    }\n",
       "\n",
       "    .dataframe thead th {\n",
       "        text-align: right;\n",
       "    }\n",
       "</style>\n",
       "<table border=\"1\" class=\"dataframe\">\n",
       "  <thead>\n",
       "    <tr style=\"text-align: right;\">\n",
       "      <th></th>\n",
       "      <th>NORMALIZED PEDESTRIAN POSITION X</th>\n",
       "      <th>NORMALIZED PEDESTRIAN POSITION Y</th>\n",
       "      <th>NORMALIZED PEDESTRIAN DIRECTION</th>\n",
       "      <th>NORMALIZED PEDESTRIAN SPEED</th>\n",
       "      <th>TTC</th>\n",
       "    </tr>\n",
       "  </thead>\n",
       "  <tbody>\n",
       "    <tr>\n",
       "      <th>0</th>\n",
       "      <td>2.500000</td>\n",
       "      <td>-0.0</td>\n",
       "      <td>0.0</td>\n",
       "      <td>1.388889</td>\n",
       "      <td>0.000000</td>\n",
       "    </tr>\n",
       "    <tr>\n",
       "      <th>1</th>\n",
       "      <td>3.500000</td>\n",
       "      <td>-0.1</td>\n",
       "      <td>0.0</td>\n",
       "      <td>1.388889</td>\n",
       "      <td>0.072000</td>\n",
       "    </tr>\n",
       "    <tr>\n",
       "      <th>2</th>\n",
       "      <td>4.500000</td>\n",
       "      <td>-0.2</td>\n",
       "      <td>0.0</td>\n",
       "      <td>1.388889</td>\n",
       "      <td>0.144000</td>\n",
       "    </tr>\n",
       "    <tr>\n",
       "      <th>3</th>\n",
       "      <td>5.500000</td>\n",
       "      <td>-0.3</td>\n",
       "      <td>0.0</td>\n",
       "      <td>1.388889</td>\n",
       "      <td>0.216000</td>\n",
       "    </tr>\n",
       "    <tr>\n",
       "      <th>4</th>\n",
       "      <td>6.500000</td>\n",
       "      <td>-0.4</td>\n",
       "      <td>0.0</td>\n",
       "      <td>1.388889</td>\n",
       "      <td>0.288000</td>\n",
       "    </tr>\n",
       "    <tr>\n",
       "      <th>...</th>\n",
       "      <td>...</td>\n",
       "      <td>...</td>\n",
       "      <td>...</td>\n",
       "      <td>...</td>\n",
       "      <td>...</td>\n",
       "    </tr>\n",
       "    <tr>\n",
       "      <th>4126</th>\n",
       "      <td>78.125394</td>\n",
       "      <td>-7.6</td>\n",
       "      <td>5.0</td>\n",
       "      <td>1.388889</td>\n",
       "      <td>5.492902</td>\n",
       "    </tr>\n",
       "    <tr>\n",
       "      <th>4127</th>\n",
       "      <td>79.120465</td>\n",
       "      <td>-7.7</td>\n",
       "      <td>5.0</td>\n",
       "      <td>1.388889</td>\n",
       "      <td>5.565177</td>\n",
       "    </tr>\n",
       "    <tr>\n",
       "      <th>4128</th>\n",
       "      <td>80.115536</td>\n",
       "      <td>-7.8</td>\n",
       "      <td>5.0</td>\n",
       "      <td>1.388889</td>\n",
       "      <td>5.637452</td>\n",
       "    </tr>\n",
       "    <tr>\n",
       "      <th>4129</th>\n",
       "      <td>81.110607</td>\n",
       "      <td>-7.9</td>\n",
       "      <td>5.0</td>\n",
       "      <td>1.388889</td>\n",
       "      <td>5.709727</td>\n",
       "    </tr>\n",
       "    <tr>\n",
       "      <th>4130</th>\n",
       "      <td>82.105678</td>\n",
       "      <td>-8.0</td>\n",
       "      <td>5.0</td>\n",
       "      <td>1.388889</td>\n",
       "      <td>5.782002</td>\n",
       "    </tr>\n",
       "  </tbody>\n",
       "</table>\n",
       "<p>4131 rows × 5 columns</p>\n",
       "</div>"
      ],
      "text/plain": [
       "      NORMALIZED PEDESTRIAN POSITION X  NORMALIZED PEDESTRIAN POSITION Y  \\\n",
       "0                             2.500000                              -0.0   \n",
       "1                             3.500000                              -0.1   \n",
       "2                             4.500000                              -0.2   \n",
       "3                             5.500000                              -0.3   \n",
       "4                             6.500000                              -0.4   \n",
       "...                                ...                               ...   \n",
       "4126                         78.125394                              -7.6   \n",
       "4127                         79.120465                              -7.7   \n",
       "4128                         80.115536                              -7.8   \n",
       "4129                         81.110607                              -7.9   \n",
       "4130                         82.105678                              -8.0   \n",
       "\n",
       "      NORMALIZED PEDESTRIAN DIRECTION  NORMALIZED PEDESTRIAN SPEED       TTC  \n",
       "0                                 0.0                     1.388889  0.000000  \n",
       "1                                 0.0                     1.388889  0.072000  \n",
       "2                                 0.0                     1.388889  0.144000  \n",
       "3                                 0.0                     1.388889  0.216000  \n",
       "4                                 0.0                     1.388889  0.288000  \n",
       "...                               ...                          ...       ...  \n",
       "4126                              5.0                     1.388889  5.492902  \n",
       "4127                              5.0                     1.388889  5.565177  \n",
       "4128                              5.0                     1.388889  5.637452  \n",
       "4129                              5.0                     1.388889  5.709727  \n",
       "4130                              5.0                     1.388889  5.782002  \n",
       "\n",
       "[4131 rows x 5 columns]"
      ]
     },
     "execution_count": 1,
     "metadata": {},
     "output_type": "execute_result"
    }
   ],
   "source": [
    "#import modules\n",
    "import os\n",
    "import glob\n",
    "import pandas as pd\n",
    "#os.chdir(\"D:\\\\CsvToCombine\")\n",
    "filepath = 'D:\\\\NewFinalDatasetsForNeuralNetwork\\\\CrashScenarios'\n",
    "dataset = pd.read_csv(filepath +'\\\\Crash_ENCAP50PedDir0.0-5.0_PedDirStep0.1LateralDist0.0-8.0_LateralDistStep0.1-_Dttime090320231312.csv')\n",
    "dataset"
   ]
  },
  {
   "cell_type": "code",
   "execution_count": 7,
   "metadata": {},
   "outputs": [
    {
     "data": {
      "text/plain": [
       "<seaborn.axisgrid.FacetGrid at 0x2d970a9df40>"
      ]
     },
     "execution_count": 7,
     "metadata": {},
     "output_type": "execute_result"
    },
    {
     "data": {
      "image/png": "[encoded data removed]",
      "text/plain": [
       "<Figure size 500x500 with 1 Axes>"
      ]
     },
     "metadata": {},
     "output_type": "display_data"
    }
   ],
   "source": [
    "import seaborn as sns\n",
    "sns.displot(dataset['TTC'], kde = True)"
   ]
  },
  {
   "cell_type": "code",
   "execution_count": 8,
   "metadata": {},
   "outputs": [],
   "source": [
    "#Splitting TTC from the other columns\n",
    "X = dataset.iloc[:, :-1].values\n",
    "y = dataset.iloc[:, -1].values"
   ]
  },
  {
   "cell_type": "code",
   "execution_count": 9,
   "metadata": {},
   "outputs": [],
   "source": [
    "from sklearn.model_selection import train_test_split\n",
    "\n",
    "# 80-20 Train-test split\n",
    "X_train, X_test, y_train, y_test = train_test_split(X, y, test_size=0.2, random_state=42)"
   ]
  },
  {
   "cell_type": "code",
   "execution_count": 10,
   "metadata": {},
   "outputs": [],
   "source": [
    "# This cell is only used for plotting the training dataset in the below cell, alongwith the column names\n",
    "joined_train_dataset = X_train\n",
    "train_dataset = pd.DataFrame(joined_train_dataset, columns = ['NORMALIZED PEDESTRIAN POSITION X', 'NORMALIZED PEDESTRIAN POSITION Y', 'NORMALIZED PEDESTRIAN DIRECTION', 'NORMALIZED PEDESTRIAN SPEED'])\n",
    "train_dataset.loc[:,'TTC'] = y_train\n",
    "#print(train_dataset)"
   ]
  },
  {
   "cell_type": "code",
   "execution_count": null,
   "metadata": {},
   "outputs": [],
   "source": [
    "# Dataplots\n",
    "import numpy as np\n",
    "import seaborn as sns\n",
    "import matplotlib.pyplot as plt\n",
    "corr_matrix = dataset.corr()\n",
    "plt.subplots(figsize=(12,9))\n",
    "k=10\n",
    "cols = corr_matrix.nlargest(k,'TTC')['TTC'].index\n",
    "cm = np.corrcoef(train_dataset[cols].values.T)\n",
    "\n",
    "#sns.heatmap(corr_matrix, vmax=0.9, square=True)\n",
    "hm = sns.heatmap(cm, cbar=True, annot=True, square=True, fmt='.2f', annot_kws={'size': 10}, yticklabels=cols.values, xticklabels=cols.values)\n",
    "plt.show()\n",
    "\n",
    "#Plotting the dataset columns to find patterns\n",
    "sns.pairplot(train_dataset, diag_kind='kde')"
   ]
  },
  {
   "cell_type": "code",
   "execution_count": 16,
   "metadata": {},
   "outputs": [],
   "source": [
    "import numpy as np\n",
    "import tensorflow as tf\n",
    "import keras\n",
    "from keras import layers\n",
    "\n",
    "# Defining first layer of the neural network, which normalizes the input data on the fly\n",
    "normalizer_layer = keras.layers.Normalization(axis=-1)\n",
    "normalizer_layer = layers.Normalization(input_shape=[4,], axis=None)\n",
    "# Adapting normalizer layer to the input train data shape\n",
    "normalizer_layer.adapt(np.array(X_train))\n",
    "\n",
    "# Defines the model and compilation\n",
    "def build_and_compile_model(normalizer_layer):\n",
    "  nn_model = keras.Sequential([\n",
    "      normalizer_layer,\n",
    "      layers.Dense(64, activation='relu'),\n",
    "      layers.Dense(128, activation='relu'),\n",
    "      layers.Dense(64, activation='relu'),\n",
    "      layers.Dense(1)\n",
    "  ])\n",
    "\n",
    "  nn_model.compile(loss='mean_squared_error',\n",
    "                optimizer=tf.keras.optimizers.Adam(0.01),\n",
    "                metrics=['mse'])\n",
    "  return nn_model"
   ]
  },
  {
   "cell_type": "code",
   "execution_count": 17,
   "metadata": {},
   "outputs": [
    {
     "name": "stdout",
     "output_type": "stream",
     "text": [
      "Model: \"sequential_1\"\n",
      "_________________________________________________________________\n",
      " Layer (type)                Output Shape              Param #   \n",
      "=================================================================\n",
      " normalization_3 (Normalizat  (None, 4)                3         \n",
      " ion)                                                            \n",
      "                                                                 \n",
      " dense_4 (Dense)             (None, 64)                320       \n",
      "                                                                 \n",
      " dense_5 (Dense)             (None, 128)               8320      \n",
      "                                                                 \n",
      " dense_6 (Dense)             (None, 64)                8256      \n",
      "                                                                 \n",
      " dense_7 (Dense)             (None, 1)                 65        \n",
      "                                                                 \n",
      "=================================================================\n",
      "Total params: 16,964\n",
      "Trainable params: 16,961\n",
      "Non-trainable params: 3\n",
      "_________________________________________________________________\n"
     ]
    }
   ],
   "source": [
    "# Building the neural network model and compiling it using the normalization layer adapted to the shape of our input training dataset\n",
    "regression_model = build_and_compile_model(normalizer_layer)\n",
    "regression_model.summary()"
   ]
  },
  {
   "cell_type": "code",
   "execution_count": 18,
   "metadata": {},
   "outputs": [
    {
     "name": "stdout",
     "output_type": "stream",
     "text": [
      "Epoch 1/50\n",
      "5933/5933 [==============================] - 34s 6ms/step - loss: 0.0074 - mse: 0.0074 - val_loss: 5.5841e-06 - val_mse: 5.5841e-06\n",
      "Epoch 2/50\n",
      "5933/5933 [==============================] - 32s 5ms/step - loss: 7.5051e-04 - mse: 7.5051e-04 - val_loss: 8.3694e-04 - val_mse: 8.3694e-04\n",
      "Epoch 3/50\n",
      "5933/5933 [==============================] - 31s 5ms/step - loss: 4.5104e-04 - mse: 4.5104e-04 - val_loss: 6.0020e-05 - val_mse: 6.0020e-05\n",
      "Epoch 4/50\n",
      "5933/5933 [==============================] - 32s 5ms/step - loss: 3.0340e-04 - mse: 3.0340e-04 - val_loss: 3.8869e-06 - val_mse: 3.8869e-06\n",
      "Epoch 5/50\n",
      "5933/5933 [==============================] - 32s 5ms/step - loss: 3.0947e-04 - mse: 3.0947e-04 - val_loss: 1.2791e-05 - val_mse: 1.2791e-05\n",
      "Epoch 6/50\n",
      "5933/5933 [==============================] - 31s 5ms/step - loss: 1.7661e-04 - mse: 1.7661e-04 - val_loss: 4.7083e-06 - val_mse: 4.7083e-06\n",
      "Epoch 7/50\n",
      "5933/5933 [==============================] - 32s 5ms/step - loss: 1.6881e-04 - mse: 1.6881e-04 - val_loss: 1.8757e-05 - val_mse: 1.8757e-05\n",
      "Epoch 8/50\n",
      "5933/5933 [==============================] - 32s 5ms/step - loss: 1.6077e-04 - mse: 1.6077e-04 - val_loss: 7.5646e-06 - val_mse: 7.5646e-06\n",
      "Epoch 9/50\n",
      "5933/5933 [==============================] - 32s 5ms/step - loss: 1.5950e-04 - mse: 1.5950e-04 - val_loss: 6.1130e-05 - val_mse: 6.1130e-05\n",
      "Epoch 10/50\n",
      "5933/5933 [==============================] - 32s 5ms/step - loss: 1.1911e-04 - mse: 1.1911e-04 - val_loss: 1.0533e-04 - val_mse: 1.0533e-04\n",
      "Epoch 11/50\n",
      "5933/5933 [==============================] - 32s 5ms/step - loss: 1.0895e-04 - mse: 1.0895e-04 - val_loss: 5.4770e-06 - val_mse: 5.4770e-06\n",
      "Epoch 12/50\n",
      "5933/5933 [==============================] - 30s 5ms/step - loss: 1.1128e-04 - mse: 1.1128e-04 - val_loss: 4.1241e-06 - val_mse: 4.1241e-06\n",
      "Epoch 13/50\n",
      "5933/5933 [==============================] - 32s 5ms/step - loss: 8.3931e-05 - mse: 8.3931e-05 - val_loss: 1.8143e-05 - val_mse: 1.8143e-05\n",
      "Epoch 14/50\n",
      "5933/5933 [==============================] - 32s 5ms/step - loss: 8.3246e-05 - mse: 8.3246e-05 - val_loss: 1.2530e-05 - val_mse: 1.2530e-05\n",
      "Epoch 15/50\n",
      "5933/5933 [==============================] - 52s 9ms/step - loss: 8.1754e-05 - mse: 8.1754e-05 - val_loss: 2.4935e-06 - val_mse: 2.4935e-06\n",
      "Epoch 16/50\n",
      "5933/5933 [==============================] - 38s 6ms/step - loss: 6.9449e-05 - mse: 6.9449e-05 - val_loss: 3.2337e-05 - val_mse: 3.2337e-05\n",
      "Epoch 17/50\n",
      "5933/5933 [==============================] - 32s 5ms/step - loss: 7.5392e-05 - mse: 7.5392e-05 - val_loss: 2.3341e-06 - val_mse: 2.3341e-06\n",
      "Epoch 18/50\n",
      "5933/5933 [==============================] - 33s 6ms/step - loss: 5.6683e-05 - mse: 5.6683e-05 - val_loss: 6.8647e-06 - val_mse: 6.8647e-06\n",
      "Epoch 19/50\n",
      "5933/5933 [==============================] - 32s 5ms/step - loss: 6.2844e-05 - mse: 6.2844e-05 - val_loss: 4.1139e-06 - val_mse: 4.1139e-06\n",
      "Epoch 20/50\n",
      "5933/5933 [==============================] - 32s 5ms/step - loss: 7.1665e-05 - mse: 7.1665e-05 - val_loss: 0.0030 - val_mse: 0.0030\n",
      "Epoch 21/50\n",
      "5933/5933 [==============================] - 32s 5ms/step - loss: 5.7671e-05 - mse: 5.7671e-05 - val_loss: 2.3439e-04 - val_mse: 2.3439e-04\n",
      "Epoch 22/50\n",
      "5933/5933 [==============================] - 32s 5ms/step - loss: 6.2764e-05 - mse: 6.2764e-05 - val_loss: 2.7435e-05 - val_mse: 2.7435e-05\n",
      "Epoch 23/50\n",
      "5933/5933 [==============================] - 32s 5ms/step - loss: 5.5120e-05 - mse: 5.5120e-05 - val_loss: 2.3231e-06 - val_mse: 2.3231e-06\n",
      "Epoch 24/50\n",
      "5933/5933 [==============================] - 32s 5ms/step - loss: 5.5757e-05 - mse: 5.5757e-05 - val_loss: 2.5354e-05 - val_mse: 2.5354e-05\n",
      "Epoch 25/50\n",
      "5933/5933 [==============================] - 32s 5ms/step - loss: 5.3795e-05 - mse: 5.3795e-05 - val_loss: 3.5089e-05 - val_mse: 3.5089e-05\n",
      "Epoch 26/50\n",
      "5933/5933 [==============================] - 32s 5ms/step - loss: 5.4295e-05 - mse: 5.4295e-05 - val_loss: 2.4168e-06 - val_mse: 2.4168e-06\n",
      "Epoch 27/50\n",
      "5933/5933 [==============================] - 32s 5ms/step - loss: 4.4457e-05 - mse: 4.4457e-05 - val_loss: 2.5037e-06 - val_mse: 2.5037e-06\n",
      "Epoch 28/50\n",
      "5933/5933 [==============================] - 32s 5ms/step - loss: 4.4450e-05 - mse: 4.4450e-05 - val_loss: 1.8379e-06 - val_mse: 1.8379e-06\n",
      "Epoch 29/50\n",
      "5933/5933 [==============================] - 33s 6ms/step - loss: 4.2839e-05 - mse: 4.2839e-05 - val_loss: 1.0134e-04 - val_mse: 1.0134e-04\n",
      "Epoch 30/50\n",
      "5933/5933 [==============================] - 32s 5ms/step - loss: 4.9762e-05 - mse: 4.9762e-05 - val_loss: 4.2404e-05 - val_mse: 4.2404e-05\n",
      "Epoch 31/50\n",
      "5933/5933 [==============================] - 31s 5ms/step - loss: 4.1785e-05 - mse: 4.1785e-05 - val_loss: 3.0064e-06 - val_mse: 3.0064e-06\n",
      "Epoch 32/50\n",
      "5933/5933 [==============================] - 31s 5ms/step - loss: 4.6910e-05 - mse: 4.6910e-05 - val_loss: 3.3076e-06 - val_mse: 3.3076e-06\n",
      "Epoch 33/50\n",
      "5933/5933 [==============================] - 33s 5ms/step - loss: 4.1763e-05 - mse: 4.1763e-05 - val_loss: 7.8845e-05 - val_mse: 7.8845e-05\n",
      "Epoch 34/50\n",
      "5933/5933 [==============================] - 33s 6ms/step - loss: 4.1435e-05 - mse: 4.1435e-05 - val_loss: 6.3796e-05 - val_mse: 6.3796e-05\n",
      "Epoch 35/50\n",
      "5933/5933 [==============================] - 29s 5ms/step - loss: 3.8865e-05 - mse: 3.8865e-05 - val_loss: 5.3272e-06 - val_mse: 5.3272e-06\n",
      "Epoch 36/50\n",
      "5933/5933 [==============================] - 32s 5ms/step - loss: 4.5942e-05 - mse: 4.5942e-05 - val_loss: 2.9344e-05 - val_mse: 2.9344e-05\n",
      "Epoch 37/50\n",
      "5933/5933 [==============================] - 33s 6ms/step - loss: 4.0681e-05 - mse: 4.0681e-05 - val_loss: 2.7621e-06 - val_mse: 2.7621e-06\n",
      "Epoch 38/50\n",
      "5933/5933 [==============================] - 33s 5ms/step - loss: 3.9215e-05 - mse: 3.9215e-05 - val_loss: 7.3368e-05 - val_mse: 7.3368e-05\n",
      "Epoch 39/50\n",
      "5933/5933 [==============================] - 33s 6ms/step - loss: 3.6342e-05 - mse: 3.6342e-05 - val_loss: 4.7679e-06 - val_mse: 4.7679e-06\n",
      "Epoch 40/50\n",
      "5933/5933 [==============================] - 33s 6ms/step - loss: 4.3067e-05 - mse: 4.3067e-05 - val_loss: 1.9053e-05 - val_mse: 1.9053e-05\n",
      "Epoch 41/50\n",
      "5933/5933 [==============================] - 33s 6ms/step - loss: 4.2217e-05 - mse: 4.2217e-05 - val_loss: 2.8364e-05 - val_mse: 2.8364e-05\n",
      "Epoch 42/50\n",
      "5933/5933 [==============================] - 33s 6ms/step - loss: 3.4762e-05 - mse: 3.4762e-05 - val_loss: 1.3830e-06 - val_mse: 1.3830e-06\n",
      "Epoch 43/50\n",
      "5933/5933 [==============================] - 33s 5ms/step - loss: 3.6443e-05 - mse: 3.6443e-05 - val_loss: 2.5909e-06 - val_mse: 2.5909e-06\n",
      "Epoch 44/50\n",
      "5933/5933 [==============================] - 31s 5ms/step - loss: 3.9964e-05 - mse: 3.9964e-05 - val_loss: 1.7985e-04 - val_mse: 1.7985e-04\n",
      "Epoch 45/50\n",
      "5933/5933 [==============================] - 32s 5ms/step - loss: 4.0887e-05 - mse: 4.0887e-05 - val_loss: 2.1272e-06 - val_mse: 2.1272e-06\n",
      "Epoch 46/50\n",
      "5933/5933 [==============================] - 34s 6ms/step - loss: 3.4316e-05 - mse: 3.4316e-05 - val_loss: 2.2760e-06 - val_mse: 2.2760e-06\n",
      "Epoch 47/50\n",
      "5933/5933 [==============================] - 33s 6ms/step - loss: 3.5962e-05 - mse: 3.5962e-05 - val_loss: 2.9940e-06 - val_mse: 2.9940e-06\n",
      "Epoch 48/50\n",
      "5933/5933 [==============================] - 33s 6ms/step - loss: 3.3422e-05 - mse: 3.3422e-05 - val_loss: 5.1025e-06 - val_mse: 5.1025e-06\n",
      "Epoch 49/50\n",
      "5933/5933 [==============================] - 33s 6ms/step - loss: 3.2764e-05 - mse: 3.2764e-05 - val_loss: 8.2933e-06 - val_mse: 8.2933e-06\n",
      "Epoch 50/50\n",
      "5933/5933 [==============================] - 33s 6ms/step - loss: 3.5210e-05 - mse: 3.5210e-05 - val_loss: 3.5573e-06 - val_mse: 3.5573e-06\n"
     ]
    }
   ],
   "source": [
    "# Report for training data for non linear model\n",
    "#%%time\n",
    "history = regression_model.fit(\n",
    "    X_train,\n",
    "    y_train,\n",
    "    epochs=50,\n",
    "    batch_size=128,\n",
    "    verbose=1,\n",
    "# Calculate validation results on 20% of the training data.\n",
    "    validation_split = 0.2)"
   ]
  },
  {
   "cell_type": "code",
   "execution_count": null,
   "metadata": {},
   "outputs": [],
   "source": [
    "regression_model.save('TTC_regression_model.h5')"
   ]
  },
  {
   "cell_type": "code",
   "execution_count": 20,
   "metadata": {},
   "outputs": [
    {
     "data": {
      "image/png": "[encoded data removed]",
      "text/plain": [
       "<Figure size 640x480 with 1 Axes>"
      ]
     },
     "metadata": {},
     "output_type": "display_data"
    }
   ],
   "source": [
    "import matplotlib.pyplot as plt\n",
    "# Summarize history for Loss function\n",
    "plt.plot(history.history['mse'])\n",
    "plt.plot(history.history['val_mse'])\n",
    "plt.title('model mean squared error')\n",
    "plt.ylabel('mse')\n",
    "plt.xlabel('epoch')\n",
    "plt.legend(['train', 'test'], loc='upper left')\n",
    "plt.show()"
   ]
  },
  {
   "cell_type": "code",
   "execution_count": 21,
   "metadata": {},
   "outputs": [
    {
     "name": "stdout",
     "output_type": "stream",
     "text": [
      "7416/7416 [==============================] - 29s 4ms/step - loss: 3.5509e-06 - mse: 3.5509e-06\n"
     ]
    },
    {
     "data": {
      "text/plain": [
       "[3.550941301000421e-06, 3.550941301000421e-06]"
      ]
     },
     "execution_count": 21,
     "metadata": {},
     "output_type": "execute_result"
    }
   ],
   "source": [
    "#Evaluating the model on the test data\n",
    "regression_model.evaluate(X_test,y_test , verbose=1)"
   ]
  },
  {
   "cell_type": "code",
   "execution_count": 22,
   "metadata": {},
   "outputs": [],
   "source": [
    "# Plotting Actual TTC values vs. predicted for the test set\n",
    "def predict_and_plot(dnn_model, X_test, y_test):\n",
    "    \n",
    "    tf.data.experimental.enable_debug_mode()\n",
    "    test_predictions = dnn_model.predict(X_test).flatten()\n",
    "\n",
    "    a = plt.axes(aspect='equal')\n",
    "    plt.scatter(y_test,test_predictions)\n",
    "    plt.xlabel('True Values [TTC]')\n",
    "    plt.ylabel('Predictions [TTC]')\n",
    "    lims = [0, 6]\n",
    "    plt.xlim(lims)\n",
    "    plt.ylim(lims)\n",
    "    _ = plt.plot(lims, lims)"
   ]
  },
  {
   "cell_type": "code",
   "execution_count": 23,
   "metadata": {},
   "outputs": [
    {
     "name": "stdout",
     "output_type": "stream",
     "text": [
      "7416/7416 [==============================] - 35s 5ms/step\n"
     ]
    },
    {
     "data": {
      "image/png": "[encoded data removed]",
      "text/plain": [
       "<Figure size 640x480 with 1 Axes>"
      ]
     },
     "metadata": {},
     "output_type": "display_data"
    }
   ],
   "source": [
    "predict_and_plot(regression_model, X_test, y_test)"
   ]
  },
  {
   "cell_type": "code",
   "execution_count": 25,
   "metadata": {},
   "outputs": [
    {
     "name": "stdout",
     "output_type": "stream",
     "text": [
      "[0.         6.00801572 7.03481077 1.5088958  0.79024449 1.75910666\n",
      " 4.29048916 1.84398133 2.10000259 0.72052147 0.92187195 2.72568668\n",
      " 4.99482868 2.84092837 6.1600076  5.6015603  3.69446152 4.85302636\n",
      " 2.46107008 1.30255052]\n",
      "1/1 [==============================] - 0s 40ms/step\n",
      "[[1.8645525e-03 6.0047002e+00 7.0319934e+00 1.5089126e+00 7.9031098e-01\n",
      "  1.7590077e+00 4.2881031e+00 1.8427330e+00 2.1005831e+00 7.2103155e-01\n",
      "  9.2232442e-01 2.7254939e+00 4.9936800e+00 2.8418117e+00 6.1586185e+00\n",
      "  5.5958381e+00 3.6942773e+00 4.8526225e+00 2.4612155e+00 1.3038123e+00]]\n"
     ]
    }
   ],
   "source": [
    "print(y_test[:20])\n",
    "prediction = regression_model.predict(X_test[:20])\n",
    "print(prediction.transpose())"
   ]
  }
 ],
 "metadata": {
  "kernelspec": {
   "display_name": "base",
   "language": "python",
   "name": "python3"
  },
  "language_info": {
   "codemirror_mode": {
    "name": "ipython",
    "version": 3
   },
   "file_extension": ".py",
   "mimetype": "text/x-python",
   "name": "python",
   "nbconvert_exporter": "python",
   "pygments_lexer": "ipython3",
   "version": "3.9.15"
  },
  "orig_nbformat": 4,
  "vscode": {
   "interpreter": {
    "hash": "a7c1730ba8b372290c98fac33d8ee365ac2e02d550d3179fcbae081f0bf4fff3"
   }
  }
 },
 "nbformat": 4,
 "nbformat_minor": 2
}
