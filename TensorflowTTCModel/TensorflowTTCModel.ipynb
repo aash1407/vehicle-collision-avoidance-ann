{
 "cells": [
  {
   "cell_type": "code",
   "execution_count": null,
   "metadata": {},
   "outputs": [],
   "source": [
    "%pip install tensorflow\n",
    "%pip install tensorflow-hub\n",
    "%pip install tensorflow-datasets\n",
    "%pip install tensorflow-lite"
   ]
  },
  {
   "cell_type": "code",
   "execution_count": null,
   "metadata": {},
   "outputs": [],
   "source": [
    "%pip uninstall tensorflow --no-cache-dir"
   ]
  },
  {
   "cell_type": "code",
   "execution_count": null,
   "metadata": {},
   "outputs": [],
   "source": [
    "%pip install numpy==1.19.2\n",
    "%pip install protobuf==3.20.3\n",
    "%pip install daal==2021.4.0\n",
    "%pip install clyent==1.2.1\n",
    "%pip install nbformat==5.4.0\n",
    "%pip install typing-extensions==3.10.0.2\n",
    "%pip install tensorflow==2.6.0\n"
   ]
  },
  {
   "cell_type": "code",
   "execution_count": 4,
   "metadata": {},
   "outputs": [
    {
     "name": "stdout",
     "output_type": "stream",
     "text": [
      "INFO:tensorflow:Assets written to: C:\\Users\\thiru\\AppData\\Local\\Temp\\tmpiu51r0_b\\assets\n",
      "INFO:tensorflow:Assets written to: C:\\Users\\thiru\\AppData\\Local\\Temp\\tmp9s807n6t\\assets\n"
     ]
    },
    {
     "name": "stderr",
     "output_type": "stream",
     "text": [
      "INFO:tensorflow:Assets written to: C:\\Users\\thiru\\AppData\\Local\\Temp\\tmp9s807n6t\\assets\n"
     ]
    }
   ],
   "source": [
    "import tensorflow as tf\n",
    "# Clear the session\n",
    "tf.keras.backend.clear_session()\n",
    "\n",
    "print(f'testing')\n",
    "# Load the Keras models\n",
    "classification_model = tf.keras.models.load_model('C:\\\\Users\\\\thiru\\\\Desktop\\\\Aashritha project\\\\python_code\\\\New_24_03_TTC_classification_model.h5')\n",
    "regression_model = tf.keras.models.load_model('C:\\\\Users\\\\thiru\\\\Desktop\\\\Aashritha project\\\\python_code\\\\TTC_regression_model.h5')\n",
    "\n",
    "# Convert the classification model to a TensorFlow Lite model\n",
    "converter = tf.lite.TFLiteConverter.from_keras_model(classification_model)\n",
    "tflite_classification_model = converter.convert()\n",
    "\n",
    "# Convert the regression model to a TensorFlow Lite model\n",
    "converter = tf.lite.TFLiteConverter.from_keras_model(regression_model)\n",
    "tflite_regression_model = converter.convert()\n"
   ]
  },
  {
   "cell_type": "code",
   "execution_count": 5,
   "metadata": {},
   "outputs": [],
   "source": [
    "import os\n",
    "model_folder_path = \"C:\\\\Users\\\\thiru\\\\Desktop\\\\Aashritha project\\\\python_code\"\n",
    "os.makedirs(model_folder_path, exist_ok=True)\n",
    "\n",
    "# Save the classification model to disk\n",
    "classification_model_path = os.path.join(model_folder_path, \"classification_model.tflite\")\n",
    "with open(classification_model_path, \"wb\") as f:\n",
    "    f.write(tflite_classification_model)\n",
    "\n",
    "# Save the regression model to disk\n",
    "regression_model_path = os.path.join(model_folder_path, \"regression_model.tflite\")\n",
    "with open(regression_model_path, \"wb\") as f:\n",
    "    f.write(tflite_regression_model)\n"
   ]
  },
  {
   "cell_type": "code",
   "execution_count": 6,
   "metadata": {},
   "outputs": [],
   "source": [
    "# Define the input and output signatures for the combined model\n",
    "classification_input = classification_model.inputs[0]\n",
    "regression_input = regression_model.inputs[0]\n",
    "classification_output = classification_model.outputs[0]\n",
    "regression_output = regression_model.outputs[0]\n",
    "combined_input = tf.TensorSpec(shape=(1, 4), dtype=tf.float32)\n",
    "classification_decision = tf.TensorSpec(shape=(1,), dtype=tf.int64)\n",
    "final_output = tf.TensorSpec(shape=(1,), dtype=tf.float32)"
   ]
  },
  {
   "cell_type": "code",
   "execution_count": 7,
   "metadata": {},
   "outputs": [],
   "source": [
    "# Define the TensorFlow function to be converted to a TensorFlow Lite model\n",
    "@tf.function(input_signature=[combined_input])\n",
    "def predict_tflite(inputs):\n",
    "    # Run the classification model on the inputs\n",
    "    classification_result = classification_model(inputs)\n",
    "    # Get the classification decision\n",
    "    classification_decision_result = tf.argmax(classification_result, axis=1)\n",
    "    # Run the regression model on the inputs\n",
    "    regression_result = regression_model(inputs)\n",
    "    # Combine the outputs based on the classification decision\n",
    "    final_result = tf.cond(tf.equal(classification_decision_result, 1),\n",
    "                           lambda: regression_result,\n",
    "                           lambda: classification_result)\n",
    "    return final_result\n"
   ]
  },
  {
   "cell_type": "code",
   "execution_count": 9,
   "metadata": {},
   "outputs": [],
   "source": [
    "# Convert the TensorFlow function to a TensorFlow Lite model\n",
    "converter = tf.lite.TFLiteConverter.from_concrete_functions(\n",
    "    [predict_tflite.get_concrete_function(combined_input)],\n",
    "    trackable_obj=predict_tflite)\n",
    "converter.optimizations = [tf.lite.Optimize.DEFAULT]\n",
    "tflite_model = converter.convert()"
   ]
  },
  {
   "cell_type": "code",
   "execution_count": 10,
   "metadata": {},
   "outputs": [],
   "source": [
    "# Create a Checkpoint object to track the state of the function\n",
    "checkpoint = tf.train.Checkpoint(predict=predict_tflite)\n",
    "checkpoint.save('/tmp/ckpt/')\n",
    "\n",
    "# Convert the TensorFlow function to a TensorFlow Lite model\n",
    "converter = tf.lite.TFLiteConverter.from_concrete_functions([predict_tflite.get_concrete_function(combined_input)], trackable_obj=checkpoint)\n",
    "converter.optimizations = [tf.lite.Optimize.DEFAULT]\n",
    "tflite_model = converter.convert()\n"
   ]
  },
  {
   "cell_type": "code",
   "execution_count": null,
   "metadata": {},
   "outputs": [],
   "source": [
    "# Save the TensorFlow Lite model to a file\n",
    "regression_model_path = os.path.join(model_folder_path, \"regression_model.tflite\")\n",
    "with open(regression_model_path, \"wb\") as f:\n",
    "with open('combined_model.tflite', 'wb') as f:\n",
    "    f.write(tflite_model)"
   ]
  },
  {
   "cell_type": "code",
   "execution_count": null,
   "metadata": {},
   "outputs": [],
   "source": [
    "import numpy as np\n",
    "\n",
    "# Load the TensorFlow Lite models\n",
    "interpreter_classification = tf.lite.Interpreter(model_content=tflite_classification_model)\n",
    "interpreter_classification.allocate_tensors()\n",
    "\n",
    "interpreter_regression = tf.lite.Interpreter(model_content=tflite_regression_model)\n",
    "interpreter_regression.allocate_tensors()\n",
    "\n",
    "# Prepare the input data\n",
    "input_data = np.random.rand(1, 4)  # replace input_shape with the actual input shape of your models\n",
    "\n",
    "# Set the input tensor values\n",
    "input_details_classification = interpreter_classification.get_input_details()\n",
    "interpreter_classification.set_tensor(input_details_classification[0]['index'], input_data)\n",
    "\n",
    "input_details_regression = interpreter_regression.get_input_details()\n",
    "interpreter_regression.set_tensor(input_details_regression[0]['index'], input_data)\n",
    "\n",
    "# Invoke the interpreter\n",
    "interpreter_classification.invoke()\n",
    "interpreter_regression.invoke()\n",
    "\n",
    "# Get the output tensor values\n",
    "output_details_classification = interpreter_classification.get_output_details()\n",
    "classification_result = interpreter_classification.get_tensor(output_details_classification[0]['index'])\n",
    "\n",
    "output_details_regression = interpreter_regression.get_output_details()\n",
    "regression_result = interpreter_regression.get_tensor(output_details_regression[0]['index'])\n"
   ]
  },
  {
   "cell_type": "code",
   "execution_count": 2,
   "metadata": {},
   "outputs": [
    {
     "name": "stdout",
     "output_type": "stream",
     "text": [
      "d:\\github_workspace\\Project_2023\\vehicle-collision-avoidance-ann\\TensorflowTTCModel\n"
     ]
    }
   ],
   "source": [
    "import os\n",
    "print(os.getcwd())"
   ]
  }
 ],
 "metadata": {
  "kernelspec": {
   "display_name": "base",
   "language": "python",
   "name": "python3"
  },
  "language_info": {
   "codemirror_mode": {
    "name": "ipython",
    "version": 3
   },
   "file_extension": ".py",
   "mimetype": "text/x-python",
   "name": "python",
   "nbconvert_exporter": "python",
   "pygments_lexer": "ipython3",
   "version": "3.9.15"
  },
  "orig_nbformat": 4
 },
 "nbformat": 4,
 "nbformat_minor": 2
}
